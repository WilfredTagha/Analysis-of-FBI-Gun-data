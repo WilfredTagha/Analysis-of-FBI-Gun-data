{
 "cells": [
  {
   "cell_type": "markdown",
   "id": "51845f41",
   "metadata": {},
   "source": [
    "\n",
    "# Project: Investigation of  FBI-gun_data \n",
    "\n",
    "## Table of Contents\n",
    "<ul>\n",
    "<li><a href=\"#intro\">Introduction</a></li>\n",
    "<li><a href=\"#wrangling\">Data Wrangling</a></li>\n",
    "<li><a href=\"#eda\">Exploratory Data Analysis</a></li>\n",
    "<li><a href=\"#conclusions\">Conclusions</a></li>\n",
    "</ul>"
   ]
  },
  {
   "cell_type": "markdown",
   "id": "f57f6950",
   "metadata": {},
   "source": [
    "<a id='intro'></a>\n",
    "## Introduction\n",
    "\n",
    "### Dataset Description \n",
    ">most of the description come from NICS_Firearm_Checks_-_Month_Year_by_State_Type.pdf and is and attached file which was part materials for this project\n",
    "\n",
    "> This project has two data sets; NICS data which is the main data set and a supplementary us census data set.  The NICS data comes from the FBI's National Instant Criminal Background Check System. The NICS is used to determine whether a prospective buyer is eligible to buy firearms or explosives. Gun shops call into this system to ensure that each customer does not have a criminal record or isn’t otherwise ineligible to make a purchase. It is important to note that the data represents the number of firearm background checks initiated through the NICS. They do not represent the number of firearms sold. \n",
    "\n",
    ">Each column represents the type of transaction submitted to the National Instant Criminal Background Check System (NICS). In addition, each type of transaction is broken down by the type of firearm—handgun, long gun, and other. The types of firearms are defined by the Bureau of Alcohol, Tobacco, Firearms and Explosives as follows: \n",
    "\n",
    ">• Handgun—(a) any firearm which has a short stock and is designed to be held and fired by the use of a single hand; and (b) any combination of parts from which a firearm described in paragraph (a) can be assembled.\n",
    "\n",
    ">• Long Gun—a weapon designed or redesigned, made or remade, and intended to be fired from the shoulder, and designed or redesigned and made or remade to use the energy of the explosive in (a) a fixed metallic cartridge to fire a single projectile through a rifled bore for each single pull of the trigger; or (b) a fixed shotgun shell to fire through a smooth bore either a number of ball shot or a single projectile for each single pull of the trigger.\n",
    "\n",
    ">• Other—refers to frames, receivers, and other firearms that are neither handguns nor long guns (rifles or shotguns), such as firearms having a pistol grip that expel a shotgun shell, or National Firearms Act firearms, including silencers. \n",
    "The indication of “multiple” denotes a background check where more than one type of firearm is associated to a single background check and “admin” denotes the administrative checks that are for other authorized uses of the NICS. Other types of transactions are explained below:\n",
    "\n",
    ">• Pre-Pawn—background checks requested by an officially-licensed FFL on prospective firearm transferees seeking to pledge or pawn a firearm as security for the payment or repayment of money, prior to actually pledging or pawning the firearm.\n",
    "\n",
    ">• Redemption—background checks requested by an officially-licensed FFL on prospective firearm transferees attempting to regain possession of a firearm after pledging or pawning a firearm as security at a pawn shop. \n",
    "\n",
    ">• Returned/Disposition—background checks requested by criminal justice/law enforcement agencies prior to returning a firearm in its possession to the respective transferee, to ensure the individual is not prohibited. \n",
    "\n",
    ">• Rentals—background checks requested by an officially-licensed FFL on prospective firearm transferees attempting to possess a firearm when the firearm is loaned or rented for use off the premises of the business.\n",
    "\n",
    ">• Private Sale—background checks requested by an officially-licensed FFL on prospective firearm transferees attempting to possess a firearm from a private party seller who is not an officially-licensed FFL.\n",
    "\n",
    ">• Return to Seller-Private Sale—background checks requested by an officially-licensed FFL on prospective firearm transferees attempting to possess a firearm from a private party seller who is not an officially-licensed FFL. \n",
    "\n",
    ">• The other columns are self-explanatory; the month records the month and year, the state records the state and the columns like Pre-pawn handguns are simply pre-pawn checks whose firearm is a handgun same for the rest of the columns. \n",
    "\n",
    ">• The census data contains estimate population for 2016 and 2010 for all the states and other information such as race percentage, sex percentages, minor percentages and lot more. All this are under the fact column and the rest of the columns are the states.\n",
    " \n",
    "\n",
    "\n",
    "### Question(s) for Analysis\n",
    "<ol>\n",
    "    <li>\tWhich state tops the nics record?</li>\n",
    "    <li>\tWhich Gun_type is most checked? When and where was background check highest?</li>\n",
    "    <li>\tAre types of Guns associated with types of transactions</li>\n",
    "    <li>\tAssuming each background check is equal to a gun purchanced,What is the distribution of the number of guns per thousand of a population change from 2010 to 2016?</li>\n",
    "</ol>\n"
   ]
  },
  {
   "cell_type": "code",
   "execution_count": 347,
   "id": "186d2b16",
   "metadata": {},
   "outputs": [],
   "source": [
    "import pandas as pd\n",
    "import numpy as np\n",
    "import matplotlib.pyplot as plt\n",
    "%matplotlib inline\n",
    "df_gun = pd.read_csv(\"E:/project_one/gun_data.csv\")\n",
    "df_census = pd.read_csv(\"E:/project_one/census_data.csv\")"
   ]
  },
  {
   "cell_type": "markdown",
   "id": "e74d308a",
   "metadata": {},
   "source": [
    "<a id='wrangling'></a>\n",
    "## Data Wrangling and Cleaning\n"
   ]
  },
  {
   "cell_type": "markdown",
   "id": "d9f8aa32",
   "metadata": {},
   "source": [
    ">viewed the first few lines of the df_gun data set and discovered that the so called month column has information for both year\n",
    "so the column was renamed to date instead"
   ]
  },
  {
   "cell_type": "code",
   "execution_count": 348,
   "id": "f3a3d121",
   "metadata": {},
   "outputs": [],
   "source": [
    "#rename column \n",
    "df_gun.rename(columns = {'month':'date'}, inplace = True)\n"
   ]
  },
  {
   "cell_type": "markdown",
   "id": "593ca090",
   "metadata": {},
   "source": [
    ">None of the questions for analyis requires permit and permit_recheck so they'll be dropped"
   ]
  },
  {
   "cell_type": "code",
   "execution_count": 349,
   "id": "b1324b70",
   "metadata": {},
   "outputs": [],
   "source": [
    "#dropping permit and permit_recheck\n",
    "df_gun.drop(['permit', 'permit_recheck'], axis=1, inplace=True)\n",
    "\n"
   ]
  },
  {
   "cell_type": "markdown",
   "id": "568b194b",
   "metadata": {},
   "source": [
    ">I checked for null values and found that, they are quite a number of them and so deleting rows with null values wasn't an option. I decided to fill all null values with zero because, the data set contains counts of occurances, so if empty it is safe to say that count is zero. That's the assumption here"
   ]
  },
  {
   "cell_type": "code",
   "execution_count": 350,
   "id": "c7198e45",
   "metadata": {},
   "outputs": [],
   "source": [
    "#filling all null values with 0\n",
    "df_gun.fillna(0, inplace=True)\n"
   ]
  },
  {
   "cell_type": "markdown",
   "id": "dce10886",
   "metadata": {},
   "source": [
    ">**cleaning for first question**\n",
    "\n",
    ">The variable country_data is created to hold the state and the sum of totals per country in order that the the details about the maximum sum of totals can be gotten"
   ]
  },
  {
   "cell_type": "code",
   "execution_count": 351,
   "id": "ac5be280",
   "metadata": {},
   "outputs": [],
   "source": [
    "#calculate the total sum background checks per state and assigns to country data\n",
    "country_data=df_gun.groupby('state', sort=False)[\"totals\"].sum().reset_index(name ='Sum_of_Totals_per_state')"
   ]
  },
  {
   "cell_type": "markdown",
   "id": "d5f005a8",
   "metadata": {},
   "source": [
    ">**cleaning for second quesion**\n",
    "\n",
    ">Question two requires information about handgun, long_gun, other and multiple. The rest of the colons are not needed and so dropped.\n",
    "\n",
    ">since the question requires the total for each, the sum is calculated so we have a riflfles_check data set wich will have two columns, 'firearm' and 'sum_of_firearm_background_check' from here we can the the most checked firearm"
   ]
  },
  {
   "cell_type": "code",
   "execution_count": 352,
   "id": "3f81d2c5",
   "metadata": {},
   "outputs": [],
   "source": [
    "#the index's from handgun to multiple is used to eleminate the rest of the data reason for the 2 and 6\n",
    "riffles_check=df_gun.iloc[:, 2:6].sum().reset_index(name ='sum_of_firearm_background_check')\n",
    "#renamming the index properly\n",
    "riffles_check.rename(columns = {'index':'firearm'}, inplace = True)\n"
   ]
  },
  {
   "cell_type": "markdown",
   "id": "969a1d54",
   "metadata": {},
   "source": [
    ">**cleaning for third question**\n",
    "\n",
    ">This question only requires transaction data that is data that has any of the following; prepawn, redemption, returns, rentals, private sales and return to seller. the rest of the coloumns are droped"
   ]
  },
  {
   "cell_type": "code",
   "execution_count": 353,
   "id": "657e27b2",
   "metadata": {},
   "outputs": [],
   "source": [
    "#removing unnessary colons for the gun calculations\n",
    "new_df = df_gun.drop(df_gun.iloc[:, 0:7], axis = 1)\n",
    "#the next line drops the last column \n",
    "new_df.drop(['totals'], inplace=True, axis=1)\n",
    "#saving to transaction data\n",
    "transaction_data = new_df.sum().reset_index(name='background_check')\n",
    "transaction_data.rename(columns = {'index':'firearm_transaction'}, inplace = True)\n"
   ]
  },
  {
   "cell_type": "markdown",
   "id": "ff9538b8",
   "metadata": {},
   "source": [
    ">**cleaning for the fourth question**\n",
    "\n",
    ">Here, we make use of the census data set too \n",
    "For the guns data,only the date, state and totals are needed\n",
    "\n",
    ">the data is further grouped into year's and only 2010's and 2016's data is collected\n",
    "the data for the two years will be kept  in two new data frames grouped by state \n",
    "and sumed so that it will contain the different state and the sum of totals"
   ]
  },
  {
   "cell_type": "code",
   "execution_count": 354,
   "id": "85d8c701",
   "metadata": {},
   "outputs": [],
   "source": [
    "#Dropping unnecessary columns\n",
    "df_gun.drop(df_gun.iloc[:, 2:24], axis = 1, inplace=True)\n"
   ]
  },
  {
   "cell_type": "markdown",
   "id": "720e4406",
   "metadata": {},
   "source": [
    ">Most of the analysis won't make use of the month in the date and so while the year will be extracted from date to replace that colum, i'll preserve the data with the month in another dataframe which will be used for future visualisation "
   ]
  },
  {
   "cell_type": "code",
   "execution_count": 355,
   "id": "4282b589",
   "metadata": {},
   "outputs": [],
   "source": [
    "#dropping the date\n",
    "df_gun2 = df_gun.drop([\"date\"], axis = 1)"
   ]
  },
  {
   "cell_type": "markdown",
   "id": "36af122d",
   "metadata": {},
   "source": [
    ">The date's column is of string data type and has extra characters on it so the integer value has to be extracted from it. "
   ]
  },
  {
   "cell_type": "code",
   "execution_count": 356,
   "id": "3a146b2e",
   "metadata": {},
   "outputs": [],
   "source": [
    "#get the years from the dates \n",
    "df_gun2['Year']=df_gun['date'].str.extract('(\\d+)').astype(int)"
   ]
  },
  {
   "cell_type": "code",
   "execution_count": 357,
   "id": "c791e263",
   "metadata": {},
   "outputs": [],
   "source": [
    "#selecting data for 2010 and 2016\n",
    "df_gun_2010 = df_gun2[df_gun2['Year']==2010][[\"state\", \"totals\"]]\n",
    "df_gun_2016 = df_gun2[df_gun2['Year']==2016][[\"state\", \"totals\"]]\n"
   ]
  },
  {
   "cell_type": "code",
   "execution_count": 358,
   "id": "b43fd8eb",
   "metadata": {},
   "outputs": [],
   "source": [
    "#grouping the data by state and summing int's totals \n",
    "df_gun_2010v2 = df_gun_2010.groupby('state', as_index = False).sum()\n",
    "df_gun_2016v2 = df_gun_2016.groupby('state', as_index = False).sum()"
   ]
  },
  {
   "cell_type": "markdown",
   "id": "83bfb483",
   "metadata": {},
   "source": [
    ">For the census data, only the 2016 and 2010 estimated population data is used.\n",
    "The Fact Note column too is not neccessary for our analysis so it will be dropped \n",
    "\n",
    ">*the census data was only a supplementary material reason why very little is used from there*"
   ]
  },
  {
   "cell_type": "code",
   "execution_count": 359,
   "id": "2ad0dbec",
   "metadata": {},
   "outputs": [],
   "source": [
    "#dropping the fact note\n",
    "df_census.drop(['Fact Note'], axis=1, inplace=True)\n"
   ]
  },
  {
   "cell_type": "code",
   "execution_count": 360,
   "id": "580e9cc1",
   "metadata": {},
   "outputs": [],
   "source": [
    "#preserving only estimate population data for 2010 and 2016\n",
    "df_census.drop(df_census.index[2:85], inplace=True)\n",
    "\n",
    "\n"
   ]
  },
  {
   "cell_type": "markdown",
   "id": "215089a0",
   "metadata": {},
   "source": [
    ">A merge of the census data and the gun_dat requires that they somewhat have the same shape. \n",
    "The census data is transposed to achieve this "
   ]
  },
  {
   "cell_type": "code",
   "execution_count": 361,
   "id": "e4b4ecab",
   "metadata": {},
   "outputs": [],
   "source": [
    "#rearranging the shape of the data to resemble that of gun data\n",
    "rearranged_df = df_census.transpose()"
   ]
  },
  {
   "cell_type": "code",
   "execution_count": 362,
   "id": "2582f7f2",
   "metadata": {},
   "outputs": [],
   "source": [
    "#naming the columns\n",
    "rearranged_df.columns = ['2016_population', '2010_population']"
   ]
  },
  {
   "cell_type": "code",
   "execution_count": 363,
   "id": "21091bfc",
   "metadata": {},
   "outputs": [],
   "source": [
    "#removing the first row since it is redundant: the title heads already have that information\n",
    "rearranged_df.drop(rearranged_df.index[0], inplace=True)\n"
   ]
  },
  {
   "cell_type": "code",
   "execution_count": 364,
   "id": "7aa0634f",
   "metadata": {},
   "outputs": [],
   "source": [
    "#renaming index\n",
    "rearranged_df['state'] = rearranged_df.index"
   ]
  },
  {
   "cell_type": "markdown",
   "id": "1065ecb3",
   "metadata": {},
   "source": [
    ">This data set contains the population estimates for each state for both 2010 and 2016"
   ]
  },
  {
   "cell_type": "code",
   "execution_count": 365,
   "id": "b40cd9f2",
   "metadata": {},
   "outputs": [],
   "source": [
    "#seperating 2010's data from 2016's so as to merge with the background checks\n",
    "df_census_2010 = rearranged_df[['state', '2010_population']]\n",
    "df_census_2016 = rearranged_df[['state', '2016_population']]\n"
   ]
  },
  {
   "cell_type": "markdown",
   "id": "6c101830",
   "metadata": {},
   "source": [
    ">Initially, we created df_gun_2010v2 and df_gun_2016v2 which holds each state's total gun check for the respective years.<br> \n",
    "Now we have df_census_2010 and df_census_2016 that contains the population estimate for each state for the respective years.<br>\n",
    "2010's data just as 2016's data are merged on the state column. <br> This will produce merged_2010 and merged_2016\n"
   ]
  },
  {
   "cell_type": "code",
   "execution_count": 366,
   "id": "9969a6f4",
   "metadata": {},
   "outputs": [],
   "source": [
    "#merging to get final data sets for the years ie df_gun_2010v2 with df_cencus_2010 and df_gun_2016v2 with df_cencus_2016\n",
    "merged_2010 = pd.merge(df_census_2010, df_gun_2010v2, on='state')\n",
    "merged_2016 = pd.merge(df_census_2016, df_gun_2016v2, on='state')\n"
   ]
  },
  {
   "cell_type": "code",
   "execution_count": 367,
   "id": "4294dffd",
   "metadata": {},
   "outputs": [],
   "source": [
    "#renaming the column heads\n",
    "merged_2010.columns = ['state', 'population', 'total_checks']\n",
    "merged_2016.columns = ['state', 'population', 'total_checks']"
   ]
  },
  {
   "cell_type": "markdown",
   "id": "edc4680c",
   "metadata": {},
   "source": [
    ">The datatype for the population column is string and contains comma's. Since arithmetic operations need to be done, it is changed to a inteer to have the same data type as total_checks\n"
   ]
  },
  {
   "cell_type": "code",
   "execution_count": 368,
   "id": "2335cbc2",
   "metadata": {},
   "outputs": [],
   "source": [
    "#remove comma's from population's in order to change the data type to float\n",
    "merged_2010['population'] = merged_2010['population'].apply(lambda x: int(x.split()[0].replace(',', '')))\n",
    "merged_2016['population'] = merged_2016['population'].apply(lambda x: int(x.split()[0].replace(',', '')))\n"
   ]
  },
  {
   "cell_type": "markdown",
   "id": "b338702c",
   "metadata": {},
   "source": [
    ">The number of guns per tousandth of a population(GPTOP) is  used to mean the number of people that have guns in a population of one thousand. This is all based on the assumption that a background check is equivalent to a bought riffle.<br>\n",
    "*it is calculated as total checks multiplied by a thousand divided by the population*"
   ]
  },
  {
   "cell_type": "code",
   "execution_count": 369,
   "id": "78df9935",
   "metadata": {},
   "outputs": [],
   "source": [
    "#calculating the number of guns per thousands population \n",
    "merged_2010['GPTOP'] = (merged_2010['total_checks']*1000/merged_2010['population']).round(0)\n",
    "merged_2016['GPTOP'] = (merged_2016['total_checks']*1000/merged_2016['population']).round(0)"
   ]
  },
  {
   "cell_type": "markdown",
   "id": "b869fb38",
   "metadata": {},
   "source": [
    ">This question requires the change in the GPTOP. And so a new data frame is created to hold that change "
   ]
  },
  {
   "cell_type": "code",
   "execution_count": 370,
   "id": "3127c5d5",
   "metadata": {},
   "outputs": [],
   "source": [
    "#calculating GPTOP change\n",
    "GPTOP_change = pd.DataFrame()\n",
    "GPTOP_change['state'] = merged_2016['state']\n",
    "GPTOP_change['GPTOP_change'] = merged_2016['GPTOP'] - merged_2010['GPTOP']\n"
   ]
  },
  {
   "cell_type": "markdown",
   "id": "e47de71c",
   "metadata": {},
   "source": [
    "<a id='eda'></a>\n",
    "## Exploratory Data Analysis\n",
    "\n",
    "\n",
    "\n",
    "### 1)\tWhich state tops the nics record?"
   ]
  },
  {
   "cell_type": "code",
   "execution_count": 371,
   "id": "4fa1b404",
   "metadata": {},
   "outputs": [],
   "source": [
    "#sort from maximum sum of checks \n",
    "country_data.sort_values(by=['Sum_of_Totals_per_state'], inplace=True, ascending=False)\n"
   ]
  },
  {
   "cell_type": "code",
   "execution_count": 372,
   "id": "021cd414",
   "metadata": {},
   "outputs": [
    {
     "data": {
      "text/html": [
       "<div>\n",
       "<style scoped>\n",
       "    .dataframe tbody tr th:only-of-type {\n",
       "        vertical-align: middle;\n",
       "    }\n",
       "\n",
       "    .dataframe tbody tr th {\n",
       "        vertical-align: top;\n",
       "    }\n",
       "\n",
       "    .dataframe thead th {\n",
       "        text-align: right;\n",
       "    }\n",
       "</style>\n",
       "<table border=\"1\" class=\"dataframe\">\n",
       "  <thead>\n",
       "    <tr style=\"text-align: right;\">\n",
       "      <th></th>\n",
       "      <th>state</th>\n",
       "      <th>Sum_of_Totals_per_state</th>\n",
       "    </tr>\n",
       "  </thead>\n",
       "  <tbody>\n",
       "    <tr>\n",
       "      <th>18</th>\n",
       "      <td>Kentucky</td>\n",
       "      <td>29762434</td>\n",
       "    </tr>\n",
       "    <tr>\n",
       "      <th>46</th>\n",
       "      <td>Texas</td>\n",
       "      <td>19435186</td>\n",
       "    </tr>\n",
       "    <tr>\n",
       "      <th>4</th>\n",
       "      <td>California</td>\n",
       "      <td>19014063</td>\n",
       "    </tr>\n",
       "    <tr>\n",
       "      <th>14</th>\n",
       "      <td>Illinois</td>\n",
       "      <td>15471534</td>\n",
       "    </tr>\n",
       "    <tr>\n",
       "      <th>40</th>\n",
       "      <td>Pennsylvania</td>\n",
       "      <td>13133876</td>\n",
       "    </tr>\n",
       "  </tbody>\n",
       "</table>\n",
       "</div>"
      ],
      "text/plain": [
       "           state  Sum_of_Totals_per_state\n",
       "18      Kentucky                 29762434\n",
       "46         Texas                 19435186\n",
       "4     California                 19014063\n",
       "14      Illinois                 15471534\n",
       "40  Pennsylvania                 13133876"
      ]
     },
     "execution_count": 372,
     "metadata": {},
     "output_type": "execute_result"
    }
   ],
   "source": [
    "#get dat for max country check\n",
    "country_data.head(5)"
   ]
  },
  {
   "cell_type": "markdown",
   "id": "4694c9ad",
   "metadata": {},
   "source": [
    ">The above table shows the top five states for the NICS record"
   ]
  },
  {
   "cell_type": "code",
   "execution_count": 373,
   "id": "97aec600",
   "metadata": {},
   "outputs": [
    {
     "data": {
      "text/html": [
       "<div>\n",
       "<style scoped>\n",
       "    .dataframe tbody tr th:only-of-type {\n",
       "        vertical-align: middle;\n",
       "    }\n",
       "\n",
       "    .dataframe tbody tr th {\n",
       "        vertical-align: top;\n",
       "    }\n",
       "\n",
       "    .dataframe thead th {\n",
       "        text-align: right;\n",
       "    }\n",
       "</style>\n",
       "<table border=\"1\" class=\"dataframe\">\n",
       "  <thead>\n",
       "    <tr style=\"text-align: right;\">\n",
       "      <th></th>\n",
       "      <th>Sum_of_Totals_per_state</th>\n",
       "    </tr>\n",
       "  </thead>\n",
       "  <tbody>\n",
       "    <tr>\n",
       "      <th>count</th>\n",
       "      <td>5.500000e+01</td>\n",
       "    </tr>\n",
       "    <tr>\n",
       "      <th>mean</th>\n",
       "      <td>4.902230e+06</td>\n",
       "    </tr>\n",
       "    <tr>\n",
       "      <th>std</th>\n",
       "      <td>5.606927e+06</td>\n",
       "    </tr>\n",
       "    <tr>\n",
       "      <th>min</th>\n",
       "      <td>4.620000e+02</td>\n",
       "    </tr>\n",
       "    <tr>\n",
       "      <th>25%</th>\n",
       "      <td>1.180779e+06</td>\n",
       "    </tr>\n",
       "    <tr>\n",
       "      <th>50%</th>\n",
       "      <td>3.576312e+06</td>\n",
       "    </tr>\n",
       "    <tr>\n",
       "      <th>75%</th>\n",
       "      <td>6.466768e+06</td>\n",
       "    </tr>\n",
       "    <tr>\n",
       "      <th>max</th>\n",
       "      <td>2.976243e+07</td>\n",
       "    </tr>\n",
       "  </tbody>\n",
       "</table>\n",
       "</div>"
      ],
      "text/plain": [
       "       Sum_of_Totals_per_state\n",
       "count             5.500000e+01\n",
       "mean              4.902230e+06\n",
       "std               5.606927e+06\n",
       "min               4.620000e+02\n",
       "25%               1.180779e+06\n",
       "50%               3.576312e+06\n",
       "75%               6.466768e+06\n",
       "max               2.976243e+07"
      ]
     },
     "execution_count": 373,
     "metadata": {},
     "output_type": "execute_result"
    }
   ],
   "source": [
    "#little info about country_data\n",
    "country_data.describe()"
   ]
  },
  {
   "cell_type": "markdown",
   "id": "5d86fb67",
   "metadata": {},
   "source": [
    ">From the above tale we can get general information about the distribution of checks on countries for the NICS data"
   ]
  },
  {
   "cell_type": "markdown",
   "id": "cb81a585",
   "metadata": {},
   "source": [
    "### 2) Which Gun_type is most checked? When and where was background check highest?"
   ]
  },
  {
   "cell_type": "code",
   "execution_count": 374,
   "id": "e1931426",
   "metadata": {},
   "outputs": [
    {
     "data": {
      "text/html": [
       "<div>\n",
       "<style scoped>\n",
       "    .dataframe tbody tr th:only-of-type {\n",
       "        vertical-align: middle;\n",
       "    }\n",
       "\n",
       "    .dataframe tbody tr th {\n",
       "        vertical-align: top;\n",
       "    }\n",
       "\n",
       "    .dataframe thead th {\n",
       "        text-align: right;\n",
       "    }\n",
       "</style>\n",
       "<table border=\"1\" class=\"dataframe\">\n",
       "  <thead>\n",
       "    <tr style=\"text-align: right;\">\n",
       "      <th></th>\n",
       "      <th>firearm</th>\n",
       "      <th>sum_of_firearm_background_check</th>\n",
       "    </tr>\n",
       "  </thead>\n",
       "  <tbody>\n",
       "    <tr>\n",
       "      <th>0</th>\n",
       "      <td>handgun</td>\n",
       "      <td>74053083.0</td>\n",
       "    </tr>\n",
       "    <tr>\n",
       "      <th>1</th>\n",
       "      <td>long_gun</td>\n",
       "      <td>97370026.0</td>\n",
       "    </tr>\n",
       "    <tr>\n",
       "      <th>2</th>\n",
       "      <td>other</td>\n",
       "      <td>1982594.0</td>\n",
       "    </tr>\n",
       "    <tr>\n",
       "      <th>3</th>\n",
       "      <td>multiple</td>\n",
       "      <td>3353513.0</td>\n",
       "    </tr>\n",
       "  </tbody>\n",
       "</table>\n",
       "</div>"
      ],
      "text/plain": [
       "    firearm  sum_of_firearm_background_check\n",
       "0   handgun                       74053083.0\n",
       "1  long_gun                       97370026.0\n",
       "2     other                        1982594.0\n",
       "3  multiple                        3353513.0"
      ]
     },
     "execution_count": 374,
     "metadata": {},
     "output_type": "execute_result"
    }
   ],
   "source": [
    "riffles_check"
   ]
  },
  {
   "cell_type": "markdown",
   "id": "dd292537",
   "metadata": {},
   "source": [
    ">The above table shows the sum of checks for the different types of firearms"
   ]
  },
  {
   "cell_type": "code",
   "execution_count": 375,
   "id": "2cc9a961",
   "metadata": {},
   "outputs": [
    {
     "data": {
      "text/plain": [
       "Text(0.5, 1.0, 'Firearm distribution')"
      ]
     },
     "execution_count": 375,
     "metadata": {},
     "output_type": "execute_result"
    },
    {
     "data": {
      "image/png": "[encoded data removed]",
      "text/plain": [
       "<Figure size 432x288 with 1 Axes>"
      ]
     },
     "metadata": {
      "needs_background": "light"
     },
     "output_type": "display_data"
    }
   ],
   "source": [
    "#ploting bar chart for firarm distribution\n",
    "riffles_check.plot(kind='bar')\n",
    "lables = ['handgun','long_gun', 'other', 'multiple']\n",
    "plt.xlabel('Gun Types')\n",
    "plt.ylabel('sum_of_checks')\n",
    "plt.title(\"Firearm distribution\")"
   ]
  },
  {
   "cell_type": "code",
   "execution_count": 376,
   "id": "1e35cfc9",
   "metadata": {},
   "outputs": [
    {
     "data": {
      "text/html": [
       "<div>\n",
       "<style scoped>\n",
       "    .dataframe tbody tr th:only-of-type {\n",
       "        vertical-align: middle;\n",
       "    }\n",
       "\n",
       "    .dataframe tbody tr th {\n",
       "        vertical-align: top;\n",
       "    }\n",
       "\n",
       "    .dataframe thead th {\n",
       "        text-align: right;\n",
       "    }\n",
       "</style>\n",
       "<table border=\"1\" class=\"dataframe\">\n",
       "  <thead>\n",
       "    <tr style=\"text-align: right;\">\n",
       "      <th></th>\n",
       "      <th>date</th>\n",
       "      <th>state</th>\n",
       "      <th>totals</th>\n",
       "    </tr>\n",
       "  </thead>\n",
       "  <tbody>\n",
       "    <tr>\n",
       "      <th>2345</th>\n",
       "      <td>2014-03</td>\n",
       "      <td>North Carolina</td>\n",
       "      <td>541978</td>\n",
       "    </tr>\n",
       "    <tr>\n",
       "      <th>18</th>\n",
       "      <td>2017-09</td>\n",
       "      <td>Kentucky</td>\n",
       "      <td>398706</td>\n",
       "    </tr>\n",
       "    <tr>\n",
       "      <th>348</th>\n",
       "      <td>2017-03</td>\n",
       "      <td>Kentucky</td>\n",
       "      <td>397959</td>\n",
       "    </tr>\n",
       "    <tr>\n",
       "      <th>513</th>\n",
       "      <td>2016-12</td>\n",
       "      <td>Kentucky</td>\n",
       "      <td>397059</td>\n",
       "    </tr>\n",
       "    <tr>\n",
       "      <th>73</th>\n",
       "      <td>2017-08</td>\n",
       "      <td>Kentucky</td>\n",
       "      <td>394718</td>\n",
       "    </tr>\n",
       "  </tbody>\n",
       "</table>\n",
       "</div>"
      ],
      "text/plain": [
       "         date           state  totals\n",
       "2345  2014-03  North Carolina  541978\n",
       "18    2017-09        Kentucky  398706\n",
       "348   2017-03        Kentucky  397959\n",
       "513   2016-12        Kentucky  397059\n",
       "73    2017-08        Kentucky  394718"
      ]
     },
     "execution_count": 376,
     "metadata": {},
     "output_type": "execute_result"
    }
   ],
   "source": [
    "#get the maximum for gun_data\n",
    "df_gun.sort_values(by=['totals'], inplace=True, ascending=False)\n",
    "df_gun.head(5)"
   ]
  },
  {
   "cell_type": "markdown",
   "id": "b5c3a60e",
   "metadata": {},
   "source": [
    ">The above has the top five records of background checks. It has the number of checks, the state and the month and the year. "
   ]
  },
  {
   "cell_type": "markdown",
   "id": "a9d519fb",
   "metadata": {},
   "source": [
    "### 3)\tAre types of Guns associated with types of transactions"
   ]
  },
  {
   "cell_type": "markdown",
   "id": "b414256b",
   "metadata": {},
   "source": [
    ">For this question a bar chart will be used to plot info about particular transaction in relation with thier associated gun types for the three gun types. This will produce a chart of 6 groups with three guntypes per group wich is nessessary for the comparison"
   ]
  },
  {
   "cell_type": "code",
   "execution_count": 377,
   "id": "e1b7bd38",
   "metadata": {},
   "outputs": [],
   "source": [
    "#function that collects the value of background check from the transaction data\n",
    "def trd(i):\n",
    "    return transaction_data['background_check'][i]"
   ]
  },
  {
   "cell_type": "code",
   "execution_count": 378,
   "id": "fa21ffa2",
   "metadata": {},
   "outputs": [
    {
     "data": {
      "text/plain": [
       "4302048.0"
      ]
     },
     "execution_count": 378,
     "metadata": {},
     "output_type": "execute_result"
    }
   ],
   "source": [
    "trd(3)"
   ]
  },
  {
   "cell_type": "code",
   "execution_count": 379,
   "id": "a9f9185a",
   "metadata": {},
   "outputs": [],
   "source": [
    "#assigning transaction data values from transaction data set to be used for the graph\n",
    "prepawn_handgun = trd(0)\n",
    "prepawn_long_gun = trd(1)\n",
    "prepawn_other = trd(2)\n",
    "\n",
    "redemption_handgun = trd(3)\n",
    "redemption_long_gun = trd(4)\n",
    "redemption_other = trd(5)\n",
    "\n",
    "returned_handgun = trd(6)\n",
    "returned_long_gun = trd(7)\n",
    "returned_other = trd(8)\n",
    "\n",
    "rentals_handgun = trd(9)\n",
    "rentals_long_gun = trd(10)\n",
    "\n",
    "private_sale_handgun = trd(11)\n",
    "private_sale_long_gun = trd(12)\n",
    "private_sale_other = trd(13)\n",
    "\n",
    "return_to_seller_handgun = trd(14)\n",
    "return_to_seller_long_gun = trd(15)\n",
    "return_to_seller_other = trd(16)"
   ]
  },
  {
   "cell_type": "code",
   "execution_count": 380,
   "id": "423fa3fe",
   "metadata": {},
   "outputs": [
    {
     "data": {
      "image/png": "[encoded data removed]",
      "text/plain": [
       "<Figure size 432x288 with 1 Axes>"
      ]
     },
     "metadata": {
      "needs_background": "light"
     },
     "output_type": "display_data"
    },
    {
     "data": {
      "text/plain": [
       "<Figure size 720x720 with 0 Axes>"
      ]
     },
     "metadata": {},
     "output_type": "display_data"
    }
   ],
   "source": [
    "#using the matplotlib to plot a bar chart for the comparison\n",
    "N = 6\n",
    "ind = np.arange(N) \n",
    "width = .25\n",
    "  \n",
    "handgun = [prepawn_handgun, redemption_handgun, returned_handgun, rentals_handgun, private_sale_handgun, return_to_seller_handgun]\n",
    "bar1 = plt.bar(ind, handgun, width, color = 'r')\n",
    "  \n",
    "long_gun = [prepawn_long_gun, redemption_long_gun, returned_long_gun, rentals_long_gun, private_sale_long_gun, return_to_seller_long_gun]\n",
    "bar2 = plt.bar(ind+width, long_gun, width, color='g')\n",
    "  \n",
    "other = [prepawn_other,redemption_other,returned_other,0, private_sale_other,return_to_seller_other]\n",
    "bar3 = plt.bar(ind+width*2, other, width, color = 'b')\n",
    "  \n",
    "plt.xlabel(\"transactions\")\n",
    "plt.ylabel('Backgroun Checks')\n",
    "plt.title(\"Firearm Transactions\")\n",
    "  \n",
    "plt.xticks(ind+width,['prepawn', 'redemtion', 'returned', 'rentals', 'Pri_sale', 're_seller'])\n",
    "plt.legend( (bar1, bar2, bar3), ('hand_gun', 'long_gun', 'other') )\n",
    "plt.figure(figsize=(10,10))\n",
    "plt.show()"
   ]
  },
  {
   "cell_type": "markdown",
   "id": "5264921e",
   "metadata": {},
   "source": [
    ">It is clear above that a certain transaction shadows the rest. so that transaction is dropped to view clearly the rest"
   ]
  },
  {
   "cell_type": "code",
   "execution_count": 381,
   "id": "afcff078",
   "metadata": {},
   "outputs": [
    {
     "data": {
      "image/png": "[encoded data removed]",
      "text/plain": [
       "<Figure size 432x288 with 1 Axes>"
      ]
     },
     "metadata": {
      "needs_background": "light"
     },
     "output_type": "display_data"
    }
   ],
   "source": [
    "#ploting the same graph above but removing redemtion since redemption shadowed most of the other transactions\n",
    "N = 5\n",
    "ind = np.arange(N) \n",
    "width = .25\n",
    "  \n",
    "handgun = [prepawn_handgun, returned_handgun, rentals_handgun, private_sale_handgun, return_to_seller_handgun]\n",
    "bar1 = plt.bar(ind, handgun, width, color = 'r')\n",
    "  \n",
    "long_gun = [prepawn_long_gun,  returned_long_gun, rentals_long_gun, private_sale_long_gun, return_to_seller_long_gun]\n",
    "bar2 = plt.bar(ind+width, long_gun, width, color='g')\n",
    "  \n",
    "other = [prepawn_other,returned_other,0, private_sale_other,return_to_seller_other]\n",
    "bar3 = plt.bar(ind+width*2, other, width, color = 'b')\n",
    "  \n",
    "plt.xlabel(\"transactions\")\n",
    "plt.ylabel('Backgroun Checks')\n",
    "plt.title(\"Firearm Transactions\")\n",
    "  \n",
    "plt.xticks(ind+width,['prepawn',  'returned', 'rentals', 'Private_sale', 'return_to_seller'])\n",
    "plt.legend( (bar1, bar2, bar3), ('hand_gun', 'long_gun', 'other') )\n",
    "plt.show()"
   ]
  },
  {
   "cell_type": "markdown",
   "id": "14b64ca6",
   "metadata": {},
   "source": [
    ">The above graph shows us the various gun_type associations to different transaction. From it we tell the relationship between particular transactions and gun types"
   ]
  },
  {
   "cell_type": "markdown",
   "id": "032800de",
   "metadata": {},
   "source": [
    "### 4)\tWhat is the distribution of the number of guns per thousand of a population change from 2010 to 2016?"
   ]
  },
  {
   "cell_type": "code",
   "execution_count": 382,
   "id": "d0703ff2",
   "metadata": {},
   "outputs": [
    {
     "data": {
      "text/html": [
       "<div>\n",
       "<style scoped>\n",
       "    .dataframe tbody tr th:only-of-type {\n",
       "        vertical-align: middle;\n",
       "    }\n",
       "\n",
       "    .dataframe tbody tr th {\n",
       "        vertical-align: top;\n",
       "    }\n",
       "\n",
       "    .dataframe thead th {\n",
       "        text-align: right;\n",
       "    }\n",
       "</style>\n",
       "<table border=\"1\" class=\"dataframe\">\n",
       "  <thead>\n",
       "    <tr style=\"text-align: right;\">\n",
       "      <th></th>\n",
       "      <th>state</th>\n",
       "      <th>GPTOP_change</th>\n",
       "    </tr>\n",
       "  </thead>\n",
       "  <tbody>\n",
       "    <tr>\n",
       "      <th>0</th>\n",
       "      <td>Alabama</td>\n",
       "      <td>62.0</td>\n",
       "    </tr>\n",
       "    <tr>\n",
       "      <th>1</th>\n",
       "      <td>Alaska</td>\n",
       "      <td>25.0</td>\n",
       "    </tr>\n",
       "    <tr>\n",
       "      <th>2</th>\n",
       "      <td>Arizona</td>\n",
       "      <td>28.0</td>\n",
       "    </tr>\n",
       "    <tr>\n",
       "      <th>3</th>\n",
       "      <td>Arkansas</td>\n",
       "      <td>23.0</td>\n",
       "    </tr>\n",
       "    <tr>\n",
       "      <th>4</th>\n",
       "      <td>California</td>\n",
       "      <td>39.0</td>\n",
       "    </tr>\n",
       "  </tbody>\n",
       "</table>\n",
       "</div>"
      ],
      "text/plain": [
       "        state  GPTOP_change\n",
       "0     Alabama          62.0\n",
       "1      Alaska          25.0\n",
       "2     Arizona          28.0\n",
       "3    Arkansas          23.0\n",
       "4  California          39.0"
      ]
     },
     "execution_count": 382,
     "metadata": {},
     "output_type": "execute_result"
    }
   ],
   "source": [
    "#little info about the GPTOP data set\n",
    "GPTOP_change.head() "
   ]
  },
  {
   "cell_type": "markdown",
   "id": "3fad9427",
   "metadata": {},
   "source": [
    ">The table above gives statistics about the GPTOP changes. "
   ]
  },
  {
   "cell_type": "code",
   "execution_count": 383,
   "id": "16d38e9a",
   "metadata": {},
   "outputs": [
    {
     "data": {
      "text/plain": [
       "Text(0, 0.5, 'GPTOP change')"
      ]
     },
     "execution_count": 383,
     "metadata": {},
     "output_type": "execute_result"
    },
    {
     "data": {
      "image/png": "[encoded data removed]",
      "text/plain": [
       "<Figure size 432x288 with 1 Axes>"
      ]
     },
     "metadata": {
      "needs_background": "light"
     },
     "output_type": "display_data"
    }
   ],
   "source": [
    "#plot a chart for its distribution\n",
    "GPTOP_change.plot(kind='line')\n",
    "plt.title(\"GPTOP change Destribution\\n\")\n",
    "plt.xlabel(\"States\")\n",
    "plt.ylabel(\"GPTOP change\")"
   ]
  },
  {
   "cell_type": "markdown",
   "id": "ebf21020",
   "metadata": {},
   "source": [
    ">The above graph shows the distribution of GPTOP change for the various states."
   ]
  },
  {
   "cell_type": "code",
   "execution_count": 384,
   "id": "bb4c34e7",
   "metadata": {},
   "outputs": [
    {
     "data": {
      "text/html": [
       "<div>\n",
       "<style scoped>\n",
       "    .dataframe tbody tr th:only-of-type {\n",
       "        vertical-align: middle;\n",
       "    }\n",
       "\n",
       "    .dataframe tbody tr th {\n",
       "        vertical-align: top;\n",
       "    }\n",
       "\n",
       "    .dataframe thead th {\n",
       "        text-align: right;\n",
       "    }\n",
       "</style>\n",
       "<table border=\"1\" class=\"dataframe\">\n",
       "  <thead>\n",
       "    <tr style=\"text-align: right;\">\n",
       "      <th></th>\n",
       "      <th>state</th>\n",
       "      <th>GPTOP_change</th>\n",
       "    </tr>\n",
       "  </thead>\n",
       "  <tbody>\n",
       "    <tr>\n",
       "      <th>16</th>\n",
       "      <td>Kentucky</td>\n",
       "      <td>279.0</td>\n",
       "    </tr>\n",
       "  </tbody>\n",
       "</table>\n",
       "</div>"
      ],
      "text/plain": [
       "       state  GPTOP_change\n",
       "16  Kentucky         279.0"
      ]
     },
     "execution_count": 384,
     "metadata": {},
     "output_type": "execute_result"
    }
   ],
   "source": [
    "#get the maximum GPTOP_change\n",
    "GPTOP_change.sort_values(by=['GPTOP_change'], inplace=True, ascending=False)\n",
    "GPTOP_change.head(1) \n"
   ]
  },
  {
   "cell_type": "markdown",
   "id": "a89b3dff",
   "metadata": {},
   "source": [
    ">the above shows the name and GPTOP change for the state with the highest GPTOP change "
   ]
  },
  {
   "cell_type": "code",
   "execution_count": 393,
   "id": "b3972338",
   "metadata": {},
   "outputs": [
    {
     "data": {
      "text/html": [
       "<div>\n",
       "<style scoped>\n",
       "    .dataframe tbody tr th:only-of-type {\n",
       "        vertical-align: middle;\n",
       "    }\n",
       "\n",
       "    .dataframe tbody tr th {\n",
       "        vertical-align: top;\n",
       "    }\n",
       "\n",
       "    .dataframe thead th {\n",
       "        text-align: right;\n",
       "    }\n",
       "</style>\n",
       "<table border=\"1\" class=\"dataframe\">\n",
       "  <thead>\n",
       "    <tr style=\"text-align: right;\">\n",
       "      <th></th>\n",
       "      <th>state</th>\n",
       "      <th>GPTOP_change</th>\n",
       "    </tr>\n",
       "  </thead>\n",
       "  <tbody>\n",
       "    <tr>\n",
       "      <th>43</th>\n",
       "      <td>Utah</td>\n",
       "      <td>-103.0</td>\n",
       "    </tr>\n",
       "  </tbody>\n",
       "</table>\n",
       "</div>"
      ],
      "text/plain": [
       "   state  GPTOP_change\n",
       "43  Utah        -103.0"
      ]
     },
     "execution_count": 393,
     "metadata": {},
     "output_type": "execute_result"
    }
   ],
   "source": [
    "GPTOP_change.tail(1) "
   ]
  },
  {
   "cell_type": "markdown",
   "id": "68ae484e",
   "metadata": {},
   "source": [
    ">the above shows the name and GPTOP change for the state with the least GPTOP change"
   ]
  },
  {
   "cell_type": "code",
   "execution_count": 385,
   "id": "f64f5558",
   "metadata": {},
   "outputs": [
    {
     "data": {
      "text/html": [
       "<div>\n",
       "<style scoped>\n",
       "    .dataframe tbody tr th:only-of-type {\n",
       "        vertical-align: middle;\n",
       "    }\n",
       "\n",
       "    .dataframe tbody tr th {\n",
       "        vertical-align: top;\n",
       "    }\n",
       "\n",
       "    .dataframe thead th {\n",
       "        text-align: right;\n",
       "    }\n",
       "</style>\n",
       "<table border=\"1\" class=\"dataframe\">\n",
       "  <thead>\n",
       "    <tr style=\"text-align: right;\">\n",
       "      <th></th>\n",
       "      <th>GPTOP_change</th>\n",
       "    </tr>\n",
       "  </thead>\n",
       "  <tbody>\n",
       "    <tr>\n",
       "      <th>count</th>\n",
       "      <td>50.000000</td>\n",
       "    </tr>\n",
       "    <tr>\n",
       "      <th>mean</th>\n",
       "      <td>37.520000</td>\n",
       "    </tr>\n",
       "    <tr>\n",
       "      <th>std</th>\n",
       "      <td>47.238967</td>\n",
       "    </tr>\n",
       "    <tr>\n",
       "      <th>min</th>\n",
       "      <td>-103.000000</td>\n",
       "    </tr>\n",
       "    <tr>\n",
       "      <th>25%</th>\n",
       "      <td>23.250000</td>\n",
       "    </tr>\n",
       "    <tr>\n",
       "      <th>50%</th>\n",
       "      <td>31.000000</td>\n",
       "    </tr>\n",
       "    <tr>\n",
       "      <th>75%</th>\n",
       "      <td>41.000000</td>\n",
       "    </tr>\n",
       "    <tr>\n",
       "      <th>max</th>\n",
       "      <td>279.000000</td>\n",
       "    </tr>\n",
       "  </tbody>\n",
       "</table>\n",
       "</div>"
      ],
      "text/plain": [
       "       GPTOP_change\n",
       "count     50.000000\n",
       "mean      37.520000\n",
       "std       47.238967\n",
       "min     -103.000000\n",
       "25%       23.250000\n",
       "50%       31.000000\n",
       "75%       41.000000\n",
       "max      279.000000"
      ]
     },
     "execution_count": 385,
     "metadata": {},
     "output_type": "execute_result"
    }
   ],
   "source": [
    "#GPTOP_change describtion\n",
    "GPTOP_change.describe() \n"
   ]
  },
  {
   "cell_type": "markdown",
   "id": "ae7618df",
   "metadata": {},
   "source": [
    ">From the above table we can see the maximum, minimm and value for GPTOP_change which are main focus."
   ]
  },
  {
   "cell_type": "code",
   "execution_count": 391,
   "id": "ed27421a",
   "metadata": {},
   "outputs": [
    {
     "data": {
      "text/html": [
       "<div>\n",
       "<style scoped>\n",
       "    .dataframe tbody tr th:only-of-type {\n",
       "        vertical-align: middle;\n",
       "    }\n",
       "\n",
       "    .dataframe tbody tr th {\n",
       "        vertical-align: top;\n",
       "    }\n",
       "\n",
       "    .dataframe thead th {\n",
       "        text-align: right;\n",
       "    }\n",
       "</style>\n",
       "<table border=\"1\" class=\"dataframe\">\n",
       "  <thead>\n",
       "    <tr style=\"text-align: right;\">\n",
       "      <th></th>\n",
       "      <th>state</th>\n",
       "      <th>population</th>\n",
       "      <th>total_checks</th>\n",
       "      <th>GPTOP</th>\n",
       "    </tr>\n",
       "  </thead>\n",
       "  <tbody>\n",
       "    <tr>\n",
       "      <th>0</th>\n",
       "      <td>Alabama</td>\n",
       "      <td>4780131</td>\n",
       "      <td>308607</td>\n",
       "      <td>65.0</td>\n",
       "    </tr>\n",
       "    <tr>\n",
       "      <th>1</th>\n",
       "      <td>Alaska</td>\n",
       "      <td>710249</td>\n",
       "      <td>65909</td>\n",
       "      <td>93.0</td>\n",
       "    </tr>\n",
       "    <tr>\n",
       "      <th>2</th>\n",
       "      <td>Arizona</td>\n",
       "      <td>6392301</td>\n",
       "      <td>206050</td>\n",
       "      <td>32.0</td>\n",
       "    </tr>\n",
       "    <tr>\n",
       "      <th>3</th>\n",
       "      <td>Arkansas</td>\n",
       "      <td>2916025</td>\n",
       "      <td>191448</td>\n",
       "      <td>66.0</td>\n",
       "    </tr>\n",
       "    <tr>\n",
       "      <th>4</th>\n",
       "      <td>California</td>\n",
       "      <td>37254522</td>\n",
       "      <td>816399</td>\n",
       "      <td>22.0</td>\n",
       "    </tr>\n",
       "  </tbody>\n",
       "</table>\n",
       "</div>"
      ],
      "text/plain": [
       "        state  population  total_checks  GPTOP\n",
       "0     Alabama     4780131        308607   65.0\n",
       "1      Alaska      710249         65909   93.0\n",
       "2     Arizona     6392301        206050   32.0\n",
       "3    Arkansas     2916025        191448   66.0\n",
       "4  California    37254522        816399   22.0"
      ]
     },
     "execution_count": 391,
     "metadata": {},
     "output_type": "execute_result"
    }
   ],
   "source": [
    "#little info about the combined 2010 data set\n",
    "merged_2010.head(5)"
   ]
  },
  {
   "cell_type": "markdown",
   "id": "7bfa332e",
   "metadata": {},
   "source": [
    ">Five rows of the  combined 2010 data. This can be looked at together with that of 2016 which is the very next table below"
   ]
  },
  {
   "cell_type": "code",
   "execution_count": 392,
   "id": "24bdadb3",
   "metadata": {},
   "outputs": [
    {
     "data": {
      "text/html": [
       "<div>\n",
       "<style scoped>\n",
       "    .dataframe tbody tr th:only-of-type {\n",
       "        vertical-align: middle;\n",
       "    }\n",
       "\n",
       "    .dataframe tbody tr th {\n",
       "        vertical-align: top;\n",
       "    }\n",
       "\n",
       "    .dataframe thead th {\n",
       "        text-align: right;\n",
       "    }\n",
       "</style>\n",
       "<table border=\"1\" class=\"dataframe\">\n",
       "  <thead>\n",
       "    <tr style=\"text-align: right;\">\n",
       "      <th></th>\n",
       "      <th>state</th>\n",
       "      <th>population</th>\n",
       "      <th>total_checks</th>\n",
       "      <th>GPTOP</th>\n",
       "    </tr>\n",
       "  </thead>\n",
       "  <tbody>\n",
       "    <tr>\n",
       "      <th>0</th>\n",
       "      <td>Alabama</td>\n",
       "      <td>4863300</td>\n",
       "      <td>616947</td>\n",
       "      <td>127.0</td>\n",
       "    </tr>\n",
       "    <tr>\n",
       "      <th>1</th>\n",
       "      <td>Alaska</td>\n",
       "      <td>741894</td>\n",
       "      <td>87647</td>\n",
       "      <td>118.0</td>\n",
       "    </tr>\n",
       "    <tr>\n",
       "      <th>2</th>\n",
       "      <td>Arizona</td>\n",
       "      <td>6931071</td>\n",
       "      <td>416279</td>\n",
       "      <td>60.0</td>\n",
       "    </tr>\n",
       "    <tr>\n",
       "      <th>3</th>\n",
       "      <td>Arkansas</td>\n",
       "      <td>2988248</td>\n",
       "      <td>266014</td>\n",
       "      <td>89.0</td>\n",
       "    </tr>\n",
       "    <tr>\n",
       "      <th>4</th>\n",
       "      <td>California</td>\n",
       "      <td>39250017</td>\n",
       "      <td>2377167</td>\n",
       "      <td>61.0</td>\n",
       "    </tr>\n",
       "  </tbody>\n",
       "</table>\n",
       "</div>"
      ],
      "text/plain": [
       "        state  population  total_checks  GPTOP\n",
       "0     Alabama     4863300        616947  127.0\n",
       "1      Alaska      741894         87647  118.0\n",
       "2     Arizona     6931071        416279   60.0\n",
       "3    Arkansas     2988248        266014   89.0\n",
       "4  California    39250017       2377167   61.0"
      ]
     },
     "execution_count": 392,
     "metadata": {},
     "output_type": "execute_result"
    }
   ],
   "source": [
    "#little info about the combined 2016 data set\n",
    "merged_2016.head(5)"
   ]
  },
  {
   "cell_type": "markdown",
   "id": "f148fb02",
   "metadata": {},
   "source": [
    ">combined 2016 data set\n"
   ]
  },
  {
   "cell_type": "raw",
   "id": "d1fb1b57",
   "metadata": {},
   "source": []
  },
  {
   "cell_type": "markdown",
   "id": "208cbc4b",
   "metadata": {},
   "source": [
    "<a id='conclusions'></a>\n",
    "## Conclusions\n",
    "\n",
    "> **ANSWERS TO QUESTIONS**: <br>From the analysis, Kentucky top's the nics record with a total background check of *29,762,434*. No state was left null with regards to background checks and the minimum check was above *4.5 million*.\n",
    "\n",
    ">Long guns are most checked and in March 2014, North Carolina recorded the highest number of checks ever recorded\n",
    "\n",
    ">Redemptions are the most recorded transactions and for this transaction,even though long guns are mostly used, short guns are also significantly used. However, hand guns seems to be preferred for return transactions. Private sales and return to seller on another hand are transactinos associated more to hand guns even though long guns are significantly associated to the transactions. Standing alone, no riffle is used for rentals.\n",
    "\n",
    ">From 2010 t0 2016, the number of guns in a thousand population per sate has a mean increase of 37.5 guns per thousandth population. While the populations all increase and the number of checks fluctuate(increase for some and decrease for others), the number of guns per thousand increases for most of the states. \n",
    ">No state record a constant GPTOP. Kentucky records the highest change of 279. Utah on the other hand recorded the strange drop in GPTOP of 103. \n",
    "\n",
    "\n",
    "\n",
    "> **lIMITATION**: This exploration does not make use of all the data given for this projects data set and focuses more on discovering peaks (minimums and maximums). It doesn't detailly explore relationships between variables and correllations.  \n",
    "\n",
    ">THANKS\n",
    "\n"
   ]
  }
 ],
 "metadata": {
  "kernelspec": {
   "display_name": "Python 3 (ipykernel)",
   "language": "python",
   "name": "python3"
  },
  "language_info": {
   "codemirror_mode": {
    "name": "ipython",
    "version": 3
   },
   "file_extension": ".py",
   "mimetype": "text/x-python",
   "name": "python",
   "nbconvert_exporter": "python",
   "pygments_lexer": "ipython3",
   "version": "3.9.12"
  }
 },
 "nbformat": 4,
 "nbformat_minor": 5
}
